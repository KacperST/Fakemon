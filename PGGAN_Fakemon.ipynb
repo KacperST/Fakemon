{
  "cells": [
    {
      "cell_type": "code",
      "execution_count": null,
      "metadata": {
        "id": "4YEUWrep9_eo"
      },
      "outputs": [],
      "source": [
        "import os\n",
        "from google.colab import drive"
      ]
    },
    {
      "cell_type": "code",
      "source": [
        "drive.mount('/content/gdrive')"
      ],
      "metadata": {
        "colab": {
          "base_uri": "https://localhost:8080/"
        },
        "id": "f0k7RFKbWKef",
        "outputId": "5efd7031-262b-4255-9095-fb9c540b80e5"
      },
      "execution_count": null,
      "outputs": [
        {
          "output_type": "stream",
          "name": "stdout",
          "text": [
            "Mounted at /content/gdrive\n"
          ]
        }
      ]
    },
    {
      "cell_type": "code",
      "source": [
        "!git clone https://github.com/facebookresearch/pytorch_GAN_zoo.git"
      ],
      "metadata": {
        "colab": {
          "base_uri": "https://localhost:8080/"
        },
        "id": "YqqHRgXOYtsW",
        "outputId": "2f0d49cb-7c72-44c4-c2db-4991233bd35d"
      },
      "execution_count": null,
      "outputs": [
        {
          "output_type": "stream",
          "name": "stdout",
          "text": [
            "Cloning into 'pytorch_GAN_zoo'...\n",
            "remote: Enumerating objects: 1523, done.\u001b[K\n",
            "remote: Counting objects: 100% (28/28), done.\u001b[K\n",
            "remote: Compressing objects: 100% (15/15), done.\u001b[K\n",
            "remote: Total 1523 (delta 17), reused 20 (delta 13), pack-reused 1495\u001b[K\n",
            "Receiving objects: 100% (1523/1523), 2.06 MiB | 23.97 MiB/s, done.\n",
            "Resolving deltas: 100% (977/977), done.\n"
          ]
        }
      ]
    },
    {
      "cell_type": "code",
      "source": [
        "!unzip gdrive/MyDrive/output_networks.zip -d ."
      ],
      "metadata": {
        "colab": {
          "base_uri": "https://localhost:8080/"
        },
        "id": "MjgsMTJK35DW",
        "outputId": "6d161f4a-e388-4cb6-b188-1f130233964f"
      },
      "execution_count": null,
      "outputs": [
        {
          "output_type": "stream",
          "name": "stdout",
          "text": [
            "Archive:  gdrive/MyDrive/output_networks.zip\n",
            "   creating: ./output_networks/.ipynb_checkpoints/\n",
            "  inflating: ./output_networks/first_run/first_run_s3_i6000_tmp_config.json  \n",
            "  inflating: ./output_networks/first_run/first_run_losses.pkl  \n",
            "  inflating: ./output_networks/first_run/first_run_train_config.json  \n",
            "   creating: ./output_networks/first_run/.ipynb_checkpoints/\n",
            "  inflating: ./output_networks/first_run/first_run_refVectors.pt  \n",
            "  inflating: ./output_networks/first_run/first_run_s3_i6000.pt  \n"
          ]
        }
      ]
    },
    {
      "cell_type": "code",
      "source": [
        "!git clone https://github.com/KacperST/Fakemon.git"
      ],
      "metadata": {
        "colab": {
          "base_uri": "https://localhost:8080/"
        },
        "id": "glFWOOTVkHvB",
        "outputId": "cdefb136-323e-4f4d-c9c4-6b84f8b07adb"
      },
      "execution_count": null,
      "outputs": [
        {
          "output_type": "stream",
          "name": "stdout",
          "text": [
            "Cloning into 'Fakemon'...\n",
            "remote: Enumerating objects: 181670, done.\u001b[K\n",
            "remote: Counting objects: 100% (29250/29250), done.\u001b[K\n",
            "remote: Compressing objects: 100% (29243/29243), done.\u001b[K\n",
            "remote: Total 181670 (delta 6), reused 29245 (delta 5), pack-reused 152420\u001b[K\n",
            "Receiving objects: 100% (181670/181670), 5.39 GiB | 38.95 MiB/s, done.\n",
            "Resolving deltas: 100% (190/190), done.\n",
            "Updating files: 100% (71908/71908), done.\n"
          ]
        }
      ]
    },
    {
      "cell_type": "code",
      "source": [
        "!python pytorch_GAN_zoo/train.py PGAN -c config.json  -n first_run --np_vis -s 2000"
      ],
      "metadata": {
        "colab": {
          "base_uri": "https://localhost:8080/"
        },
        "id": "1n230-rDnNCj",
        "outputId": "aa655db8-f789-4c2d-8c0e-5825deec8cfc"
      },
      "execution_count": null,
      "outputs": [
        {
          "output_type": "stream",
          "name": "stdout",
          "text": [
            "Running PGAN\n",
            "size 10\n",
            "60176 images found\n",
            "60176 images detected\n",
            "Model found at path output_networks/first_run/first_run_s3_i20000.pt, pursuing the training\n",
            "Average network found !\n",
            "size (32, 32)\n",
            "60176 images found\n",
            "/usr/local/lib/python3.10/dist-packages/torch/autograd/graph.py:744: UserWarning: Plan failed with a cudnnException: CUDNN_BACKEND_EXECUTION_PLAN_DESCRIPTOR: cudnnFinalize Descriptor Failed cudnn_status: CUDNN_STATUS_NOT_SUPPORTED (Triggered internally at ../aten/src/ATen/native/cudnn/Conv_v8.cpp:919.)\n",
            "  return Variable._execution_engine.run_backward(  # Calls into the C++ engine to run the backward pass\n",
            "/content/pytorch_GAN_zoo/models/base_GAN.py:278: UserWarning: This overload of add_ is deprecated:\n",
            "\tadd_(Number alpha, Tensor other)\n",
            "Consider using one of the following signatures instead:\n",
            "\tadd_(Tensor other, *, Number alpha) (Triggered internally at ../torch/csrc/utils/python_arg_parser.cpp:1578.)\n",
            "  avg_p.mul_(0.999).add_(0.001, p.data)\n",
            "[3 :  20100] loss G : 87.677 loss D : -72.022\n",
            "[3 :  20200] loss G : 84.695 loss D : -70.254\n",
            "[3 :  20300] loss G : 93.373 loss D : -72.335\n",
            "[3 :  20400] loss G : 91.396 loss D : -73.002\n",
            "[3 :  20500] loss G : 80.570 loss D : -73.336\n",
            "[3 :  20600] loss G : 106.147 loss D : -72.329\n",
            "[3 :  20700] loss G : 84.335 loss D : -71.522\n",
            "[3 :  20800] loss G : 82.086 loss D : -75.351\n",
            "[3 :  20900] loss G : 91.231 loss D : -70.601\n",
            "[3 :  21000] loss G : 76.737 loss D : -70.637\n",
            "[3 :  21100] loss G : 85.677 loss D : -71.812\n",
            "[3 :  21200] loss G : 85.887 loss D : -69.071\n",
            "[3 :  21300] loss G : 92.803 loss D : -74.756\n",
            "[3 :  21400] loss G : 90.618 loss D : -70.096\n",
            "[3 :  21500] loss G : 84.978 loss D : -73.857\n",
            "[3 :  21600] loss G : 86.557 loss D : -75.174\n",
            "[3 :  21700] loss G : 84.255 loss D : -72.313\n",
            "[3 :  21800] loss G : 93.444 loss D : -73.262\n",
            "[3 :  21900] loss G : 70.330 loss D : -72.827\n",
            "[3 :  22000] loss G : 80.649 loss D : -69.403\n",
            "Traceback (most recent call last):\n",
            "  File \"/content/pytorch_GAN_zoo/train.py\", line 137, in <module>\n",
            "    GANTrainer.train()\n",
            "  File \"/content/pytorch_GAN_zoo/models/trainer/progressive_gan_trainer.py\", line 235, in train\n",
            "    status = self.trainOnEpoch(dbLoader, scale,\n",
            "  File \"/content/pytorch_GAN_zoo/models/trainer/gan_trainer.py\", line 486, in trainOnEpoch\n",
            "    allLosses = self.model.optimizeParameters(inputs_real,\n",
            "  File \"/content/pytorch_GAN_zoo/models/base_GAN.py\", line 203, in optimizeParameters\n",
            "    allLosses[\"lossD_Grad\"] = WGANGPGradientPenalty(self.real_input,\n",
            "  File \"/content/pytorch_GAN_zoo/models/loss_criterions/gradient_losses.py\", line 46, in WGANGPGradientPenalty\n",
            "    return gradient_penalty.item()\n",
            "KeyboardInterrupt\n"
          ]
        }
      ]
    },
    {
      "cell_type": "code",
      "source": [
        "!pip install visdom"
      ],
      "metadata": {
        "colab": {
          "base_uri": "https://localhost:8080/"
        },
        "id": "rewyQaj0gbxh",
        "outputId": "08c39fc5-4015-4745-b503-2b18b1a81183"
      },
      "execution_count": null,
      "outputs": [
        {
          "output_type": "stream",
          "name": "stdout",
          "text": [
            "Collecting visdom\n",
            "  Downloading visdom-0.2.4.tar.gz (1.4 MB)\n",
            "\u001b[2K     \u001b[90m━━━━━━━━━━━━━━━━━━━━━━━━━━━━━━━━━━━━━━━━\u001b[0m \u001b[32m1.4/1.4 MB\u001b[0m \u001b[31m5.9 MB/s\u001b[0m eta \u001b[36m0:00:00\u001b[0m\n",
            "\u001b[?25h  Preparing metadata (setup.py) ... \u001b[?25l\u001b[?25hdone\n",
            "Requirement already satisfied: numpy>=1.8 in /usr/local/lib/python3.10/dist-packages (from visdom) (1.25.2)\n",
            "Requirement already satisfied: scipy in /usr/local/lib/python3.10/dist-packages (from visdom) (1.11.4)\n",
            "Requirement already satisfied: requests in /usr/local/lib/python3.10/dist-packages (from visdom) (2.31.0)\n",
            "Requirement already satisfied: tornado in /usr/local/lib/python3.10/dist-packages (from visdom) (6.3.3)\n",
            "Requirement already satisfied: six in /usr/local/lib/python3.10/dist-packages (from visdom) (1.16.0)\n",
            "Collecting jsonpatch (from visdom)\n",
            "  Downloading jsonpatch-1.33-py2.py3-none-any.whl (12 kB)\n",
            "Requirement already satisfied: websocket-client in /usr/local/lib/python3.10/dist-packages (from visdom) (1.8.0)\n",
            "Requirement already satisfied: networkx in /usr/local/lib/python3.10/dist-packages (from visdom) (3.3)\n",
            "Requirement already satisfied: pillow in /usr/local/lib/python3.10/dist-packages (from visdom) (9.4.0)\n",
            "Collecting jsonpointer>=1.9 (from jsonpatch->visdom)\n",
            "  Downloading jsonpointer-2.4-py2.py3-none-any.whl (7.8 kB)\n",
            "Requirement already satisfied: charset-normalizer<4,>=2 in /usr/local/lib/python3.10/dist-packages (from requests->visdom) (3.3.2)\n",
            "Requirement already satisfied: idna<4,>=2.5 in /usr/local/lib/python3.10/dist-packages (from requests->visdom) (3.7)\n",
            "Requirement already satisfied: urllib3<3,>=1.21.1 in /usr/local/lib/python3.10/dist-packages (from requests->visdom) (2.0.7)\n",
            "Requirement already satisfied: certifi>=2017.4.17 in /usr/local/lib/python3.10/dist-packages (from requests->visdom) (2024.2.2)\n",
            "Building wheels for collected packages: visdom\n",
            "  Building wheel for visdom (setup.py) ... \u001b[?25l\u001b[?25hdone\n",
            "  Created wheel for visdom: filename=visdom-0.2.4-py3-none-any.whl size=1408195 sha256=ff2d15a3754e5d63309587b3308b3dbfcf189c1681fd9d1698a9f6a1d0b9b49b\n",
            "  Stored in directory: /root/.cache/pip/wheels/42/29/49/5bed207bac4578e4d2c0c5fc0226bfd33a7e2953ea56356855\n",
            "Successfully built visdom\n",
            "Installing collected packages: jsonpointer, jsonpatch, visdom\n",
            "Successfully installed jsonpatch-1.33 jsonpointer-2.4 visdom-0.2.4\n"
          ]
        }
      ]
    },
    {
      "cell_type": "markdown",
      "source": [],
      "metadata": {
        "id": "3CXQwwf1n6yu"
      }
    },
    {
      "cell_type": "code",
      "source": [
        "!cp -r output_networks gdrive/MyDrive/"
      ],
      "metadata": {
        "id": "I_O1RgwrYkkX"
      },
      "execution_count": null,
      "outputs": []
    }
  ],
  "metadata": {
    "accelerator": "GPU",
    "colab": {
      "provenance": [],
      "gpuType": "T4"
    },
    "kernelspec": {
      "display_name": "Python 3",
      "name": "python3"
    },
    "language_info": {
      "name": "python"
    }
  },
  "nbformat": 4,
  "nbformat_minor": 0
}